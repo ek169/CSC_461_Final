{
 "cells": [
  {
   "cell_type": "code",
   "execution_count": 5,
   "metadata": {},
   "outputs": [],
   "source": [
    "import numpy as np\n",
    "import pandas as pd"
   ]
  },
  {
   "cell_type": "code",
   "execution_count": 6,
   "metadata": {},
   "outputs": [],
   "source": [
    "columns = ['user','activity','timestamp', 'x-axis', 'y-axis', 'z-axis']\n",
    "#df = pd.read_csv('WISDM_at_v2.0_raw.txt', header = None, names = columns)\n",
    "#df['z-axis'] = df['z-axis'].str.rstrip(';')"
   ]
  },
  {
   "cell_type": "code",
   "execution_count": 13,
   "metadata": {},
   "outputs": [],
   "source": [
    "df = pd.read_csv('users_below_id_600.csv')\n",
    "df = df[df['user'] != 579]\n",
    "df = df[df.columns.unique()].replace(';', '')\n",
    "df = df.dropna()\n",
    "\n",
    "\n",
    "for i in df['user'].unique():\n",
    "    if len(df[df['user'] == i]) < 5000:\n",
    "        df = df[df['user'] != i]\n",
    " \n",
    "\n",
    "df['timestamp'] = df['timestamp'].astype(int)\n",
    "df['x-axis'] = df['x-axis'].astype(float)\n",
    "df['y-axis'] = df['y-axis'].astype(float)\n",
    "df['z-axis'] = df['z-axis'].astype(float)\n",
    "\n"
   ]
  },
  {
   "cell_type": "code",
   "execution_count": 18,
   "metadata": {},
   "outputs": [
    {
     "name": "stderr",
     "output_type": "stream",
     "text": [
      "/usr/local/lib/python3.7/site-packages/ipykernel_launcher.py:5: SettingWithCopyWarning: \n",
      "A value is trying to be set on a copy of a slice from a DataFrame.\n",
      "Try using .loc[row_indexer,col_indexer] = value instead\n",
      "\n",
      "See the caveats in the documentation: http://pandas.pydata.org/pandas-docs/stable/user_guide/indexing.html#returning-a-view-versus-a-copy\n",
      "  \"\"\"\n",
      "/usr/local/lib/python3.7/site-packages/pandas/core/indexing.py:494: SettingWithCopyWarning: \n",
      "A value is trying to be set on a copy of a slice from a DataFrame.\n",
      "Try using .loc[row_indexer,col_indexer] = value instead\n",
      "\n",
      "See the caveats in the documentation: http://pandas.pydata.org/pandas-docs/stable/user_guide/indexing.html#returning-a-view-versus-a-copy\n",
      "  self.obj[item] = s\n"
     ]
    }
   ],
   "source": [
    "for user in df['user'].unique():\n",
    "    for activity in df['activity'].unique():\n",
    "        user_activity_to_process = df[df['user'] == user][df[df['user'] == user]['activity'] == activity]\n",
    "        if len(user_activity_to_process['timestamp']) == 0:\n",
    "            df[df['user'] == user][df[df['user'] == user]['activity'] != activity] = df[df['user'] == user][df[df['user'] == user]['activity'] != activity]\n",
    "            break\n",
    "        df[df['user'] == user][df[df['user'] == user]['activity'] == activity]['timestamp'] -= user_activity_to_process['timestamp'].iloc[0]\n",
    "        df[df['user'] == user][df[df['user'] == user]['activity'] == activity]['timestamp'] /= 1000"
   ]
  },
  {
   "cell_type": "code",
   "execution_count": null,
   "metadata": {},
   "outputs": [],
   "source": [
    "# standardize accelerometer data \n",
    "\n",
    "# min max scaling\n",
    "\n",
    "# standard scaler \n",
    "\n",
    "# perform windowing of the data for each user, and each activity\n",
    "\n",
    "# translate each minute window into an individual row with a label (which is the user)\n",
    "\n",
    "# add bias for each window (3 biases for each window) + bias so it will end up being a 4 x 1200 \n",
    "# feature vector. Maybe \n",
    "\n",
    "# add row to matrix of all data for a particular activity\n",
    "\n",
    "# decide on model, and train model to see what we can do"
   ]
  }
 ],
 "metadata": {
  "kernelspec": {
   "display_name": "Python 3",
   "language": "python",
   "name": "python3"
  },
  "language_info": {
   "codemirror_mode": {
    "name": "ipython",
    "version": 3
   },
   "file_extension": ".py",
   "mimetype": "text/x-python",
   "name": "python",
   "nbconvert_exporter": "python",
   "pygments_lexer": "ipython3",
   "version": "3.7.4"
  }
 },
 "nbformat": 4,
 "nbformat_minor": 2
}
