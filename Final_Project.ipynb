{
 "cells": [
  {
   "cell_type": "markdown",
   "metadata": {},
   "source": [
    "<h4>Identifying Individuals Based Off Of Their Accelerometer Data Using The WISDM Data Set</h4>\n"
   ]
  },
  {
   "cell_type": "code",
   "execution_count": 90,
   "metadata": {},
   "outputs": [],
   "source": [
    "import numpy as np\n",
    "import pandas as pd"
   ]
  },
  {
   "cell_type": "code",
   "execution_count": 102,
   "metadata": {},
   "outputs": [],
   "source": [
    "columns = ['user','activity','timestamp', 'x-axis', 'y-axis', 'z-axis']\n",
    "\n",
    "# save this for making a new data set if need be\n",
    "# load in data set\n",
    "df = pd.read_csv('WISDM_at_v2.0_raw.txt', header = None, names = columns)\n",
    "\n",
    "# get rid of unnecessary characters\n",
    "df['z-axis'] = df['z-axis'].str.rstrip(';')\n",
    "\n",
    "# obtain only walking data since this has the most of any activity\n",
    "walking = df.loc[df.activity == 'Walking']"
   ]
  },
  {
   "cell_type": "code",
   "execution_count": 103,
   "metadata": {},
   "outputs": [
    {
     "data": {
      "text/plain": [
       "array([1679,  599,  685,  669, 1277,  674,  594,  678,  648,  584,  582,\n",
       "        636, 1758,  708,  711,  687,  563,  621,  623,  720, 1793,  568,\n",
       "        640,  671,  694,  664,  585,  684, 1480,  655, 1603,  651,  579,\n",
       "        613,  590,  639,  587,  719,  635, 1742,  624,  710,  676,  693,\n",
       "        646,  713,  610,  615,  705,  653,  702,  604,  618,  654,  656,\n",
       "        606,  998,  586, 1319,  668, 1768, 1100,  573, 1491,  712, 1518,\n",
       "        730,  622,  647, 1727, 1477,  588,  634,  661,  686,  690,  709,\n",
       "        663,  597, 1656,  630,  616,  691,  625,  612,  650,  658, 1750,\n",
       "        598,  729,  714,  607,  628,  589,  728,  925,  593,  600,  637,\n",
       "        641,  609,  633, 1783,  688,  605, 1247,  695,  595,  602,  194,\n",
       "        583,  716,  727, 1797, 1320, 1676,  673, 1802,  611, 1117,  689,\n",
       "       1774,  666,  617,  706,  627,  675, 1799, 1703,  670, 1759, 1554,\n",
       "       1778, 1064, 1238,  726,  632,  608,  725,  614,  697, 1775,  592,\n",
       "        723,  591, 1512, 1253,  580,  703,  722,  626,  561,  619,  652,\n",
       "        683,  717,  567,  601,  642,  577, 1736,  724,  715,  696,  665,\n",
       "        638,  581,  682,  660, 1104,  718,  704,  672,  721,  645,  603,\n",
       "        596, 1767, 1559,  631,  578,  659, 1274,  667,  681,  649,  565,\n",
       "        679,  562,  692,  707,  657])"
      ]
     },
     "execution_count": 103,
     "metadata": {},
     "output_type": "execute_result"
    }
   ],
   "source": [
    "# unique id's before getting rid of those without a sufficient amount of data\n",
    "walking.user.unique()"
   ]
  },
  {
   "cell_type": "code",
   "execution_count": 104,
   "metadata": {},
   "outputs": [],
   "source": [
    "# obtain only users who have over ~15 minutes of data\n",
    "for i in walking.user.unique():    \n",
    "    if len(walking[walking.user == i]) < 19000:\n",
    "        walking = walking[walking.user != i]"
   ]
  },
  {
   "cell_type": "code",
   "execution_count": 105,
   "metadata": {},
   "outputs": [
    {
     "data": {
      "text/plain": [
       "array([ 585, 1750,  688,  675, 1238,  603,  679])"
      ]
     },
     "execution_count": 105,
     "metadata": {},
     "output_type": "execute_result"
    }
   ],
   "source": [
    "# There are 7 unique users\n",
    "walking.user.unique()"
   ]
  },
  {
   "cell_type": "code",
   "execution_count": 106,
   "metadata": {},
   "outputs": [],
   "source": [
    "# get rid of unnecessary characters and rows with empty entries\n",
    "walking = walking[walking.columns.unique()].replace(';', '')\n",
    "walking = walking.dropna()\n",
    "\n",
    "# update columns to be usable types\n",
    "walking.timestamp = walking.timestamp.astype(int)\n",
    "walking['x-axis'] = walking['x-axis'].astype(float)\n",
    "walking['y-axis'] = walking['y-axis'].astype(float)\n",
    "walking['z-axis'] = walking['z-axis'].astype(float)\n",
    "\n"
   ]
  },
  {
   "cell_type": "code",
   "execution_count": 107,
   "metadata": {},
   "outputs": [],
   "source": [
    "# function to normalize time stamps starting at 0 milliseconds\n",
    "def normalize_time_stamps(df):\n",
    "\n",
    "    # iterate through all users\n",
    "    for user in df.user.unique():\n",
    "\n",
    "        # iterate through all activities\n",
    "        for activity in df.activity.unique():\n",
    "\n",
    "            key = (df.user == user) & (df.activity == activity)\n",
    "            # obtain all rows for a particular user and an activity\n",
    "            user_activity_to_process = df[key]\n",
    "            \n",
    "            # if there are no rows for this activity, drop the activity from that user\n",
    "            if len(user_activity_to_process.timestamp) == 0:\n",
    "                df[(df.user == user)] = df[(df.user == user) & (df.activity != activity)]\n",
    "                break\n",
    "\n",
    "            # otherwise normalize the time stamps to start at 0, and be in milliseconds?\n",
    "            else:\n",
    "                df.loc[key, 'timestamp'] -= user_activity_to_process.timestamp.iloc[0]\n",
    "                df.loc[key, 'timestamp'] /= 1000\n",
    "                print(df[key])\n",
    "                            \n",
    "    return df"
   ]
  },
  {
   "cell_type": "code",
   "execution_count": 108,
   "metadata": {},
   "outputs": [],
   "source": [
    "# standardize accelerometer data \n",
    "#normalized = normalize_time_stamps(df)\n",
    "\n",
    "# min max scaling\n",
    "\n",
    "# standard scaler \n",
    "\n",
    "# perform windowing of the data for each user, and each activity\n",
    "\n",
    "# translate each minute window into an individual row with a label (which is the user)\n",
    "\n",
    "# add bias for each window (3 biases for each window) + bias so it will end up being a 4 x 1200 \n",
    "# feature vector. Maybe \n",
    "\n",
    "# add row to matrix of all data for a particular activity\n",
    "\n",
    "# decide on model, and train model to see what we can do"
   ]
  },
  {
   "cell_type": "code",
   "execution_count": 109,
   "metadata": {},
   "outputs": [
    {
     "name": "stdout",
     "output_type": "stream",
     "text": [
      "        user activity  timestamp    x-axis    y-axis     z-axis\n",
      "316949   585  Walking       0.00  3.173541 -0.694638   9.152874\n",
      "316950   585  Walking       0.05  3.146300 -0.340509   9.193735\n",
      "316951   585  Walking       0.10  1.184970 -0.040861  10.841797\n",
      "316952   585  Walking       0.15  2.792171  0.653777  10.310603\n",
      "316953   585  Walking       0.20  2.220117  0.503953  10.106298\n",
      "...      ...      ...        ...       ...       ...        ...\n",
      "342233   585  Walking    1333.50 -0.463092  5.706926   8.349273\n",
      "342234   585  Walking    1333.55 -1.607201  5.516241   8.621680\n",
      "342235   585  Walking    1333.60 -1.307553  5.625204   8.539958\n",
      "342236   585  Walking    1333.65 -1.334794  5.788648   9.003050\n",
      "342237   585  Walking    1333.70 -1.225831  6.020194   8.471856\n",
      "\n",
      "[21886 rows x 6 columns]\n",
      "         user activity  timestamp    x-axis     y-axis     z-axis\n",
      "1492383  1750  Walking      0.000 -3.823853  12.672226   0.331696\n",
      "1492384  1750  Walking      0.050  4.261078   4.433762  10.710114\n",
      "1492385  1750  Walking      0.100  0.363220   1.526138   1.949158\n",
      "1492386  1750  Walking      0.150 -1.498230   1.722519  -0.463348\n",
      "1492387  1750  Walking      0.200 -2.353973   2.699661  -4.098175\n",
      "...       ...      ...        ...       ...        ...        ...\n",
      "1534378  1750  Walking  48676.379  0.068054  -9.619949   1.486176\n",
      "1534379  1750  Walking  48676.429  0.004974  -9.487839   1.720642\n",
      "1534380  1750  Walking  48676.479  0.020447  -9.542587   1.484985\n",
      "1534381  1750  Walking  48676.529  0.034729  -9.554489   1.561157\n",
      "1534382  1750  Walking  48676.577  0.039490  -9.483078   1.382629\n",
      "\n",
      "[42000 rows x 6 columns]\n",
      "         user activity  timestamp  x-axis  y-axis    z-axis\n",
      "1711818   688  Walking       0.00   -0.04    8.62  2.873893\n",
      "1711819   688  Walking       0.05    0.69    9.53  4.181447\n",
      "1711820   688  Walking       0.10   -0.76    8.92  4.140586\n",
      "1711821   688  Walking       0.15   -1.57    8.58  3.636633\n",
      "1711822   688  Walking       0.20   -1.08    8.35  3.786457\n",
      "...       ...      ...        ...     ...     ...       ...\n",
      "1731683   688  Walking     708.35    2.45    9.30  0.762740\n",
      "1731684   688  Walking     708.35    2.45    9.30  0.762740\n",
      "1731685   688  Walking     708.35    2.45    9.30  0.762740\n",
      "1731686   688  Walking     708.35    2.45    9.30  0.762740\n",
      "1731687   688  Walking     708.35    2.45    9.30  0.762740\n",
      "\n",
      "[19870 rows x 6 columns]\n",
      "         user activity  timestamp  x-axis  y-axis  z-axis\n",
      "2044043   675  Walking       0.00    5.67    6.74    1.65\n",
      "2044044   675  Walking       0.05    9.85   13.67   -7.25\n",
      "2044045   675  Walking       0.10   -1.12   11.30  -10.50\n",
      "2044046   675  Walking       0.15   -0.38    0.04   -0.57\n",
      "2044047   675  Walking       0.20    1.92    4.37   -6.13\n",
      "...       ...      ...        ...     ...     ...     ...\n",
      "2063190   675  Walking     628.85    6.32   -0.89   -9.30\n",
      "2063191   675  Walking     628.85    6.32   -0.89   -9.30\n",
      "2063192   675  Walking     628.85    6.32   -0.89   -9.30\n",
      "2063193   675  Walking     628.85    6.32   -0.89   -9.30\n",
      "2063194   675  Walking     628.85    6.32   -0.89   -9.30\n",
      "\n",
      "[19152 rows x 6 columns]\n",
      "         user activity    timestamp    x-axis     y-axis    z-axis\n",
      "2189151  1238  Walking        0.000  0.481763  -0.960870 -0.370048\n",
      "2189152  1238  Walking        0.050 -3.960699   0.604336  0.816441\n",
      "2189153  1238  Walking        0.100 -2.920429   1.438897  1.006162\n",
      "2189154  1238  Walking        0.150 -2.015523  -1.302469  0.530793\n",
      "2189155  1238  Walking        0.200 -2.504748   0.271792  1.220398\n",
      "...       ...      ...          ...       ...        ...       ...\n",
      "2238595  1238  Walking  5785081.598  2.413355 -16.203957 -0.076614\n",
      "2238596  1238  Walking  5785081.648  4.865018  -8.963891 -3.600879\n",
      "2238597  1238  Walking  5785081.698  2.758120  -4.137180 -0.344765\n",
      "2238598  1238  Walking  5785081.748 -2.643199 -10.228029  4.750096\n",
      "2238599  1238  Walking  5785081.797 -4.788404  -9.615114 -0.497994\n",
      "\n",
      "[34121 rows x 6 columns]\n",
      "         user activity    timestamp    x-axis     y-axis    z-axis\n",
      "2758469   603  Walking        0.000  0.844462   8.008764  2.792171\n",
      "2758470   603  Walking        0.050  1.116869   8.621680  3.786457\n",
      "2758471   603  Walking        0.100 -0.503953  16.657684  1.307553\n",
      "2758472   603  Walking        0.150  4.794363  10.760075 -1.184970\n",
      "2758473   603  Walking        0.200 -0.040861   9.234595 -0.694638\n",
      "...       ...      ...          ...       ...        ...       ...\n",
      "2783058   603  Walking  5165610.220  0.885323  12.598822  0.149824\n",
      "2783059   603  Walking  5165610.221  0.081722   9.806650  1.757025\n",
      "2783060   603  Walking  5165610.222 -4.630918   6.851035  4.821603\n",
      "2783061   603  Walking  5165610.223  3.718355  -3.636633  8.689782\n",
      "2783062   603  Walking  5165610.224  5.284695  -0.190685  8.267551\n",
      "\n",
      "[19773 rows x 6 columns]\n",
      "         user activity  timestamp  x-axis  y-axis  z-axis\n",
      "2917653   679  Walking       0.00   -2.76    5.05   -0.53\n",
      "2917654   679  Walking       0.05   -0.93    4.90    0.57\n",
      "2917655   679  Walking       0.10    5.79   11.03    0.23\n",
      "2917656   679  Walking       0.15    7.40   11.26    0.69\n",
      "2917657   679  Walking       0.20    6.85   11.65    1.92\n",
      "...       ...      ...        ...     ...     ...     ...\n",
      "2954527   679  Walking    1563.75    1.80    5.52    4.75\n",
      "2954528   679  Walking    1563.75    1.80    5.52    4.75\n",
      "2954529   679  Walking    1563.75    1.80    5.52    4.75\n",
      "2954530   679  Walking    1563.75    1.80    5.52    4.75\n",
      "2954531   679  Walking    1563.75    1.80    5.52    4.75\n",
      "\n",
      "[24193 rows x 6 columns]\n",
      "316949       0.00\n",
      "316950       0.05\n",
      "316951       0.10\n",
      "316952       0.15\n",
      "316953       0.20\n",
      "           ...   \n",
      "342233    1333.50\n",
      "342234    1333.55\n",
      "342235    1333.60\n",
      "342236    1333.65\n",
      "342237    1333.70\n",
      "Name: timestamp, Length: 21886, dtype: float64\n",
      "1492383        0.000\n",
      "1492384        0.050\n",
      "1492385        0.100\n",
      "1492386        0.150\n",
      "1492387        0.200\n",
      "             ...    \n",
      "1534378    48676.379\n",
      "1534379    48676.429\n",
      "1534380    48676.479\n",
      "1534381    48676.529\n",
      "1534382    48676.577\n",
      "Name: timestamp, Length: 42000, dtype: float64\n",
      "1711818      0.00\n",
      "1711819      0.05\n",
      "1711820      0.10\n",
      "1711821      0.15\n",
      "1711822      0.20\n",
      "            ...  \n",
      "1731683    708.35\n",
      "1731684    708.35\n",
      "1731685    708.35\n",
      "1731686    708.35\n",
      "1731687    708.35\n",
      "Name: timestamp, Length: 19870, dtype: float64\n",
      "2044043      0.00\n",
      "2044044      0.05\n",
      "2044045      0.10\n",
      "2044046      0.15\n",
      "2044047      0.20\n",
      "            ...  \n",
      "2063190    628.85\n",
      "2063191    628.85\n",
      "2063192    628.85\n",
      "2063193    628.85\n",
      "2063194    628.85\n",
      "Name: timestamp, Length: 19152, dtype: float64\n",
      "2189151          0.000\n",
      "2189152          0.050\n",
      "2189153          0.100\n",
      "2189154          0.150\n",
      "2189155          0.200\n",
      "              ...     \n",
      "2238595    5785081.598\n",
      "2238596    5785081.648\n",
      "2238597    5785081.698\n",
      "2238598    5785081.748\n",
      "2238599    5785081.797\n",
      "Name: timestamp, Length: 34121, dtype: float64\n",
      "2758469          0.000\n",
      "2758470          0.050\n",
      "2758471          0.100\n",
      "2758472          0.150\n",
      "2758473          0.200\n",
      "              ...     \n",
      "2783058    5165610.220\n",
      "2783059    5165610.221\n",
      "2783060    5165610.222\n",
      "2783061    5165610.223\n",
      "2783062    5165610.224\n",
      "Name: timestamp, Length: 19773, dtype: float64\n",
      "2917653       0.00\n",
      "2917654       0.05\n",
      "2917655       0.10\n",
      "2917656       0.15\n",
      "2917657       0.20\n",
      "            ...   \n",
      "2954527    1563.75\n",
      "2954528    1563.75\n",
      "2954529    1563.75\n",
      "2954530    1563.75\n",
      "2954531    1563.75\n",
      "Name: timestamp, Length: 24193, dtype: float64\n"
     ]
    }
   ],
   "source": [
    "# obtain a data set with normalized time stamps\n",
    "# this doesn't really matter for actual training, but it's nice to have clean timestamps\n",
    "walking_norm = normalize_time_stamps(walking)\n",
    "for user in walking_norm.user.unique():\n",
    "    print(walking_norm.loc[walking_norm.user == user, 'timestamp'])"
   ]
  },
  {
   "cell_type": "code",
   "execution_count": 118,
   "metadata": {},
   "outputs": [],
   "source": [
    "# utilize 2 second windows with 50% overlap \n",
    "new_features = []\n",
    "labels = []\n",
    "\n",
    "# 20 HZ sampling means 20 samples every second. Therefore 2 seconds is 40 samples, .\n",
    "step_size = 20\n",
    "window_size = 40\n",
    "\n",
    "for user in walking_norm.user.unique():\n",
    "    user_walking_data = walking_norm[walking_norm.user == user]\n",
    "    # go through ea\n",
    "    for window_start in range(0, len(user_walking_data) - window_size, step_size):\n",
    "        x = user_walking_data['x-axis'].values[window_start: window_start + window_size]\n",
    "        y = user_walking_data['y-axis'].values[window_start: window_start + window_size]\n",
    "        z = user_walking_data['z-axis'].values[window_start: window_start + window_size]\n",
    "        new_features.append([x, y, z])\n",
    "\n",
    "        # Label for a data window is the label that appears most commonly\n",
    "        labels.append(np.full((1, window_size), user))\n",
    "\n",
    "# Convert to numpy\n",
    "new_features = np.asarray(new_features, dtype=np.float32).transpose(0, 2, 1)"
   ]
  },
  {
   "cell_type": "code",
   "execution_count": 120,
   "metadata": {},
   "outputs": [
    {
     "data": {
      "text/plain": [
       "40"
      ]
     },
     "execution_count": 120,
     "metadata": {},
     "output_type": "execute_result"
    }
   ],
   "source": []
  },
  {
   "cell_type": "code",
   "execution_count": null,
   "metadata": {},
   "outputs": [],
   "source": [
    "# perform feature transformations\n",
    "new_features = []\n",
    "labels = []\n",
    "\n",
    "# Slide a \"SEGMENT_TIME_SIZE\" wide window with a step size of \"TIME_STEP\"\n",
    "for i in range(0, len(data) - SEGMENT_TIME_SIZE, TIME_STEP):\n",
    "    x = data['x-axis'].values[i: i + SEGMENT_TIME_SIZE]\n",
    "    y = data['y-axis'].values[i: i + SEGMENT_TIME_SIZE]\n",
    "    z = data['z-axis'].values[i: i + SEGMENT_TIME_SIZE]\n",
    "    data_convoluted.append([x, y, z])\n",
    "\n",
    "    # Label for a data window is the label that appears most commonly\n",
    "    label = stats.mode(data['activity'][i: i + SEGMENT_TIME_SIZE])[0][0]\n",
    "    labels.append(label)\n",
    "\n",
    "# Convert to numpy\n",
    "data_convoluted = np.asarray(data_convoluted, dtype=np.float32).transpose(0, 2, 1)"
   ]
  },
  {
   "cell_type": "markdown",
   "metadata": {},
   "source": [
    "<h4>Prepare Model</h4>"
   ]
  },
  {
   "cell_type": "code",
   "execution_count": 68,
   "metadata": {},
   "outputs": [],
   "source": [
    "import torch \n",
    "import torchvision\n",
    "import os\n",
    "\n",
    "import random\n",
    "import math\n",
    "import torch.utils.data as tdata\n",
    "import torch.optim as opt\n",
    "import torch.nn as nn\n",
    "import torchvision.datasets as datasets\n",
    "import torchvision.transforms as transforms\n",
    "from torch.utils.data.sampler import SubsetRandomSampler\n",
    "import matplotlib.pyplot as plt\n",
    "plt.style.use('seaborn-whitegrid')\n",
    "plt.rcParams['figure.figsize'] = [9, 6]"
   ]
  },
  {
   "cell_type": "code",
   "execution_count": 69,
   "metadata": {},
   "outputs": [],
   "source": [
    "n_epochs = 20\n",
    "batch_size_train = 64\n",
    "batch_size_test = 512\n",
    "learning_rate = 0.001\n",
    "logging_interval = 1\n",
    "valid_percent = 0.2"
   ]
  },
  {
   "cell_type": "code",
   "execution_count": null,
   "metadata": {},
   "outputs": [],
   "source": []
  }
 ],
 "metadata": {
  "kernelspec": {
   "display_name": "Python 3",
   "language": "python",
   "name": "python3"
  },
  "language_info": {
   "codemirror_mode": {
    "name": "ipython",
    "version": 3
   },
   "file_extension": ".py",
   "mimetype": "text/x-python",
   "name": "python",
   "nbconvert_exporter": "python",
   "pygments_lexer": "ipython3",
   "version": "3.7.4"
  }
 },
 "nbformat": 4,
 "nbformat_minor": 2
}
