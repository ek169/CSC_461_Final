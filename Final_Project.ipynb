{
 "cells": [
  {
   "cell_type": "code",
   "execution_count": 1,
   "metadata": {},
   "outputs": [],
   "source": [
    "import numpy as np\n",
    "import pandas as pd"
   ]
  },
  {
   "cell_type": "code",
   "execution_count": 92,
   "metadata": {},
   "outputs": [
    {
     "name": "stderr",
     "output_type": "stream",
     "text": [
      "/usr/local/lib/python3.7/site-packages/IPython/core/interactiveshell.py:3058: DtypeWarning: Columns (2) have mixed types. Specify dtype option on import or set low_memory=False.\n",
      "  interactivity=interactivity, compiler=compiler, result=result)\n"
     ]
    }
   ],
   "source": [
    "columns = ['user','activity','timestamp', 'x-axis', 'y-axis', 'z-axis']\n",
    "df = pd.read_csv('WISDM_at_v2.0_raw.txt', header = None, names = columns)\n",
    "df['z-axis'] = df['z-axis'].str.rstrip(';')"
   ]
  },
  {
   "cell_type": "code",
   "execution_count": 94,
   "metadata": {},
   "outputs": [
    {
     "name": "stdout",
     "output_type": "stream",
     "text": [
      "         user activity    timestamp    x-axis     y-axis       z-axis\n",
      "1855411   194  Walking            0  0.823759  10.748088    0.1176798\n",
      "1855412   194  Walking         0.05  3.334261   9.728196    -2.745862\n",
      "1855413   194  Walking          0.1  5.119071  13.454723   -2.6281822\n",
      "1855414   194  Walking         0.15  4.099180  16.592852   -0.6472389\n",
      "1855415   194  Walking          0.2  2.432049  11.964112     1.372931\n",
      "...       ...      ...          ...       ...        ...          ...\n",
      "1873798   194  Walking  1.98199e+06  1.361408  -0.622114  -0.04580637\n",
      "1873799   194  Walking  1.98199e+06  0.762729  -2.037851  -0.26844662\n",
      "1873800   194  Walking  1.98199e+06  1.301753  -0.993892  -0.62744075\n",
      "1873801   194  Walking  1.98199e+06  0.857538   0.252468    -0.644485\n",
      "1873802   194  Walking  1.98199e+06 -0.217314  -0.309992  -0.48363006\n",
      "\n",
      "[12199 rows x 6 columns]\n",
      "         user   activity timestamp     x-axis    y-axis     z-axis\n",
      "1855011   194  LyingDown         0  10.120462  0.696272  1.2846711\n",
      "1855012   194  LyingDown     0.219  10.081236  0.696272  1.2846711\n",
      "1855013   194  LyingDown     0.269  10.042009  0.696272  1.2846711\n",
      "1855014   194  LyingDown     0.319  10.091043  0.696272  1.2846711\n",
      "1855015   194  LyingDown      0.43  10.130269  0.696272  1.2846711\n",
      "...       ...        ...       ...        ...       ...        ...\n",
      "1855406   194  LyingDown    54.969  10.042009  0.804145   1.372931\n",
      "1855407   194  LyingDown    55.187  10.091043  0.804145   1.372931\n",
      "1855408   194  LyingDown    55.453  10.130269  0.804145   1.372931\n",
      "1855409   194  LyingDown     55.57  10.130269  0.804145  1.3337044\n",
      "1855410   194  LyingDown    55.672  10.130269  0.804145  1.2944778\n",
      "\n",
      "[400 rows x 6 columns]\n",
      "         user  activity    timestamp    x-axis     y-axis       z-axis\n",
      "1847025   194  Standing            0 -0.382459  10.473502   -1.6769371\n",
      "1847026   194  Standing        0.051 -0.382459  10.473502   -1.7259704\n",
      "1847027   194  Standing        0.101 -0.382459  10.473502   -1.7651969\n",
      "1847028   194  Standing        0.206 -0.382459  10.473502   -1.8044236\n",
      "1847029   194  Standing        0.256 -0.382459  10.522535   -1.8044236\n",
      "...       ...       ...          ...       ...        ...          ...\n",
      "1879598   194  Standing  2.09109e+06 -0.003196   0.034088   0.06498113\n",
      "1879599   194  Standing  2.09109e+06 -0.017044  -0.004261  0.054328486\n",
      "1879600   194  Standing  2.09109e+06 -0.010653   0.006392  0.067111656\n",
      "1879601   194  Standing  2.09109e+06 -0.018109  -0.026632  0.066046394\n",
      "1879602   194  Standing  2.09109e+06 -0.020240  -0.006392  0.054328486\n",
      "\n",
      "[7388 rows x 6 columns]\n",
      "         user activity   timestamp    x-axis    y-axis       z-axis\n",
      "1848613   194  Sitting           0  2.235916  4.903325    7.3157606\n",
      "1848614   194  Sitting        0.05  9.071151  2.471276      3.80498\n",
      "1848615   194  Sitting         0.1  9.012311  2.353596      3.80498\n",
      "1848616   194  Sitting        0.15  9.051538  2.353596    3.8540134\n",
      "1848617   194  Sitting        0.26  9.100571  2.353596    3.8540134\n",
      "...       ...      ...         ...       ...       ...          ...\n",
      "1867799   194  Sitting  1.3793e+06 -0.031958 -0.036219  0.067111656\n",
      "1867800   194  Sitting  1.3793e+06 -0.028762 -0.039415  0.067111656\n",
      "1867801   194  Sitting  1.3793e+06 -0.020240  0.009587  0.068176925\n",
      "1867802   194  Sitting  1.3793e+06 -0.020240  0.018109   0.06391586\n",
      "1867803   194  Sitting  1.3793e+06 -0.021305  0.002131  0.066046394\n",
      "\n",
      "[2592 rows x 6 columns]\n",
      "         user activity timestamp     x-axis     y-axis       z-axis\n",
      "1861611   194  Jogging         0   5.099458   8.825985    0.0392266\n",
      "1861612   194  Jogging      0.05   8.551398  -2.353596    3.1773546\n",
      "1861613   194  Jogging       0.1   0.784532   0.921825    1.9613299\n",
      "1861614   194  Jogging      0.15  -3.903047   5.825150    1.4709975\n",
      "1861615   194  Jogging       0.2   8.394492  21.143137  -0.78453195\n",
      "...       ...      ...       ...        ...        ...          ...\n",
      "1865405   194  Jogging   189.947  19.181807  23.732092    28.674644\n",
      "1865406   194  Jogging   189.997   3.569621   5.452497    3.9226599\n",
      "1865407   194  Jogging   190.047   6.982335   4.275699    1.4906107\n",
      "1865408   194  Jogging   190.097   7.256921   0.647239    2.1182363\n",
      "1865409   194  Jogging   190.147   1.255251   6.256642   -4.0403395\n",
      "\n",
      "[3799 rows x 6 columns]\n",
      "         user activity    timestamp    x-axis     y-axis      z-axis\n",
      "1848811   194   Stairs            0  2.000557   3.373487   0.7649187\n",
      "1848812   194   Stairs         0.05  2.314369   3.559814   1.4415776\n",
      "1848813   194   Stairs          0.1  4.746418   6.001670   0.4314926\n",
      "1848814   194   Stairs         0.15  3.373487  21.613855   -2.941995\n",
      "1848815   194   Stairs          0.2  0.117680   7.570734  -0.8237586\n",
      "...       ...      ...          ...       ...        ...         ...\n",
      "1881998   194   Stairs  4.41602e+06  4.920867   6.041287   7.6627154\n",
      "1881999   194   Stairs  4.41602e+06  9.498947   8.975336    4.620741\n",
      "1882000   194   Stairs  4.41602e+06  7.751181   4.907994    7.687713\n",
      "1882001   194   Stairs  4.41602e+06  6.926247   4.485872   3.1590307\n",
      "1882002   194   Stairs  4.41602e+06  3.250790   2.652783   2.6940975\n",
      "\n",
      "[8600 rows x 6 columns]\n"
     ]
    },
    {
     "ename": "KeyboardInterrupt",
     "evalue": "",
     "output_type": "error",
     "traceback": [
      "\u001b[0;31m---------------------------------------------------------------------------\u001b[0m",
      "\u001b[0;31mKeyboardInterrupt\u001b[0m                         Traceback (most recent call last)",
      "\u001b[0;32m<ipython-input-94-1252e6e8d62f>\u001b[0m in \u001b[0;36m<module>\u001b[0;34m\u001b[0m\n\u001b[1;32m      1\u001b[0m \u001b[0;32mfor\u001b[0m \u001b[0muser\u001b[0m \u001b[0;32min\u001b[0m \u001b[0mrange\u001b[0m\u001b[0;34m(\u001b[0m\u001b[0;36m1\u001b[0m\u001b[0;34m,\u001b[0m \u001b[0mdf\u001b[0m\u001b[0;34m[\u001b[0m\u001b[0;34m'user'\u001b[0m\u001b[0;34m]\u001b[0m\u001b[0;34m.\u001b[0m\u001b[0mmax\u001b[0m\u001b[0;34m(\u001b[0m\u001b[0;34m)\u001b[0m\u001b[0;34m+\u001b[0m\u001b[0;36m1\u001b[0m\u001b[0;34m)\u001b[0m\u001b[0;34m:\u001b[0m\u001b[0;34m\u001b[0m\u001b[0;34m\u001b[0m\u001b[0m\n\u001b[0;32m----> 2\u001b[0;31m     \u001b[0;32mfor\u001b[0m \u001b[0mactivity\u001b[0m \u001b[0;32min\u001b[0m \u001b[0mdf\u001b[0m\u001b[0;34m[\u001b[0m\u001b[0;34m'activity'\u001b[0m\u001b[0;34m]\u001b[0m\u001b[0;34m.\u001b[0m\u001b[0munique\u001b[0m\u001b[0;34m(\u001b[0m\u001b[0;34m)\u001b[0m\u001b[0;34m:\u001b[0m\u001b[0;34m\u001b[0m\u001b[0;34m\u001b[0m\u001b[0m\n\u001b[0m\u001b[1;32m      3\u001b[0m         \u001b[0muser_activity_to_process\u001b[0m \u001b[0;34m=\u001b[0m \u001b[0mdf\u001b[0m\u001b[0;34m[\u001b[0m\u001b[0mdf\u001b[0m\u001b[0;34m[\u001b[0m\u001b[0;34m'user'\u001b[0m\u001b[0;34m]\u001b[0m \u001b[0;34m==\u001b[0m \u001b[0muser\u001b[0m\u001b[0;34m]\u001b[0m\u001b[0;34m[\u001b[0m\u001b[0mdf\u001b[0m\u001b[0;34m[\u001b[0m\u001b[0mdf\u001b[0m\u001b[0;34m[\u001b[0m\u001b[0;34m'user'\u001b[0m\u001b[0;34m]\u001b[0m \u001b[0;34m==\u001b[0m \u001b[0muser\u001b[0m\u001b[0;34m]\u001b[0m\u001b[0;34m[\u001b[0m\u001b[0;34m'activity'\u001b[0m\u001b[0;34m]\u001b[0m \u001b[0;34m==\u001b[0m \u001b[0mactivity\u001b[0m\u001b[0;34m]\u001b[0m\u001b[0;34m\u001b[0m\u001b[0;34m\u001b[0m\u001b[0m\n\u001b[1;32m      4\u001b[0m         \u001b[0;32mif\u001b[0m \u001b[0mlen\u001b[0m\u001b[0;34m(\u001b[0m\u001b[0muser_activity_to_process\u001b[0m\u001b[0;34m)\u001b[0m \u001b[0;34m>\u001b[0m \u001b[0;36m0\u001b[0m\u001b[0;34m:\u001b[0m\u001b[0;34m\u001b[0m\u001b[0;34m\u001b[0m\u001b[0m\n\u001b[1;32m      5\u001b[0m             \u001b[0muser_activity_to_process\u001b[0m\u001b[0;34m[\u001b[0m\u001b[0;34m'timestamp'\u001b[0m\u001b[0;34m]\u001b[0m \u001b[0;34m-=\u001b[0m \u001b[0muser_activity_to_process\u001b[0m\u001b[0;34m[\u001b[0m\u001b[0;34m'timestamp'\u001b[0m\u001b[0;34m]\u001b[0m\u001b[0;34m.\u001b[0m\u001b[0miloc\u001b[0m\u001b[0;34m[\u001b[0m\u001b[0;36m0\u001b[0m\u001b[0;34m]\u001b[0m\u001b[0;34m\u001b[0m\u001b[0;34m\u001b[0m\u001b[0m\n",
      "\u001b[0;32m/usr/local/lib/python3.7/site-packages/pandas/core/series.py\u001b[0m in \u001b[0;36munique\u001b[0;34m(self)\u001b[0m\n\u001b[1;32m   1986\u001b[0m         \u001b[0mCategories\u001b[0m \u001b[0;34m(\u001b[0m\u001b[0;36m3\u001b[0m\u001b[0;34m,\u001b[0m \u001b[0mobject\u001b[0m\u001b[0;34m)\u001b[0m\u001b[0;34m:\u001b[0m \u001b[0;34m[\u001b[0m\u001b[0ma\u001b[0m \u001b[0;34m<\u001b[0m \u001b[0mb\u001b[0m \u001b[0;34m<\u001b[0m \u001b[0mc\u001b[0m\u001b[0;34m]\u001b[0m\u001b[0;34m\u001b[0m\u001b[0;34m\u001b[0m\u001b[0m\n\u001b[1;32m   1987\u001b[0m         \"\"\"\n\u001b[0;32m-> 1988\u001b[0;31m         \u001b[0mresult\u001b[0m \u001b[0;34m=\u001b[0m \u001b[0msuper\u001b[0m\u001b[0;34m(\u001b[0m\u001b[0;34m)\u001b[0m\u001b[0;34m.\u001b[0m\u001b[0munique\u001b[0m\u001b[0;34m(\u001b[0m\u001b[0;34m)\u001b[0m\u001b[0;34m\u001b[0m\u001b[0;34m\u001b[0m\u001b[0m\n\u001b[0m\u001b[1;32m   1989\u001b[0m         \u001b[0;32mreturn\u001b[0m \u001b[0mresult\u001b[0m\u001b[0;34m\u001b[0m\u001b[0;34m\u001b[0m\u001b[0m\n\u001b[1;32m   1990\u001b[0m \u001b[0;34m\u001b[0m\u001b[0m\n",
      "\u001b[0;32m/usr/local/lib/python3.7/site-packages/pandas/core/base.py\u001b[0m in \u001b[0;36munique\u001b[0;34m(self)\u001b[0m\n\u001b[1;32m   1403\u001b[0m             \u001b[0;32mfrom\u001b[0m \u001b[0mpandas\u001b[0m\u001b[0;34m.\u001b[0m\u001b[0mcore\u001b[0m\u001b[0;34m.\u001b[0m\u001b[0malgorithms\u001b[0m \u001b[0;32mimport\u001b[0m \u001b[0munique1d\u001b[0m\u001b[0;34m\u001b[0m\u001b[0;34m\u001b[0m\u001b[0m\n\u001b[1;32m   1404\u001b[0m \u001b[0;34m\u001b[0m\u001b[0m\n\u001b[0;32m-> 1405\u001b[0;31m             \u001b[0mresult\u001b[0m \u001b[0;34m=\u001b[0m \u001b[0munique1d\u001b[0m\u001b[0;34m(\u001b[0m\u001b[0mvalues\u001b[0m\u001b[0;34m)\u001b[0m\u001b[0;34m\u001b[0m\u001b[0;34m\u001b[0m\u001b[0m\n\u001b[0m\u001b[1;32m   1406\u001b[0m \u001b[0;34m\u001b[0m\u001b[0m\n\u001b[1;32m   1407\u001b[0m         \u001b[0;32mreturn\u001b[0m \u001b[0mresult\u001b[0m\u001b[0;34m\u001b[0m\u001b[0;34m\u001b[0m\u001b[0m\n",
      "\u001b[0;32m/usr/local/lib/python3.7/site-packages/pandas/core/algorithms.py\u001b[0m in \u001b[0;36munique\u001b[0;34m(values)\u001b[0m\n\u001b[1;32m    403\u001b[0m \u001b[0;34m\u001b[0m\u001b[0m\n\u001b[1;32m    404\u001b[0m     \u001b[0mtable\u001b[0m \u001b[0;34m=\u001b[0m \u001b[0mhtable\u001b[0m\u001b[0;34m(\u001b[0m\u001b[0mlen\u001b[0m\u001b[0;34m(\u001b[0m\u001b[0mvalues\u001b[0m\u001b[0;34m)\u001b[0m\u001b[0;34m)\u001b[0m\u001b[0;34m\u001b[0m\u001b[0;34m\u001b[0m\u001b[0m\n\u001b[0;32m--> 405\u001b[0;31m     \u001b[0muniques\u001b[0m \u001b[0;34m=\u001b[0m \u001b[0mtable\u001b[0m\u001b[0;34m.\u001b[0m\u001b[0munique\u001b[0m\u001b[0;34m(\u001b[0m\u001b[0mvalues\u001b[0m\u001b[0;34m)\u001b[0m\u001b[0;34m\u001b[0m\u001b[0;34m\u001b[0m\u001b[0m\n\u001b[0m\u001b[1;32m    406\u001b[0m     \u001b[0muniques\u001b[0m \u001b[0;34m=\u001b[0m \u001b[0m_reconstruct_data\u001b[0m\u001b[0;34m(\u001b[0m\u001b[0muniques\u001b[0m\u001b[0;34m,\u001b[0m \u001b[0mdtype\u001b[0m\u001b[0;34m,\u001b[0m \u001b[0moriginal\u001b[0m\u001b[0;34m)\u001b[0m\u001b[0;34m\u001b[0m\u001b[0;34m\u001b[0m\u001b[0m\n\u001b[1;32m    407\u001b[0m     \u001b[0;32mreturn\u001b[0m \u001b[0muniques\u001b[0m\u001b[0;34m\u001b[0m\u001b[0;34m\u001b[0m\u001b[0m\n",
      "\u001b[0;31mKeyboardInterrupt\u001b[0m: "
     ]
    }
   ],
   "source": [
    "processed_df = pd.DataFrame(columns=)\n",
    "for user in range(1, 2): #df['user'].max()+1):\n",
    "    for activity in df['activity'].unique()[0]:\n",
    "        user_activity_to_process = df[df['user'] == user][df[df['user'] == user]['activity'] == activity]\n",
    "        if len(user_activity_to_process) > 12000: # length is less than 10 minutes\n",
    "            user_activity_to_process['timestamp'] -= user_activity_to_process['timestamp'].iloc[0]\n",
    "            user_activity_to_process['timestamp'] /= 1000\n",
    "            print(user_activity_to_process)"
   ]
  },
  {
   "cell_type": "code",
   "execution_count": 124,
   "metadata": {},
   "outputs": [
    {
     "data": {
      "text/plain": [
       "array([1679,  599,  685,  669, 1277,  674,  594,  678,  648,  584, 1733,\n",
       "        582, 1769,  636, 1758,  708,  711,  687,  563,  621,  623,  720,\n",
       "       1793,  568,  640, 1715,  671,  694,  664,  585,  684,  662, 1480,\n",
       "        655, 1511, 1603,  651,  579,  613,  590,  639,  587,  719,  635,\n",
       "       1742,  624,  710,  676, 1761,  693, 1696,  646,  713,  610,  615,\n",
       "        705,  653,  702,  604, 1702,  618,  654,  656,  606,  998,  586,\n",
       "       1501, 1319,  668, 1768, 1100, 1205,  573, 1491,  712, 1518,  730,\n",
       "        622,  647, 1727, 1477,  588,  634,  661,  686,  690,  709,  663,\n",
       "        597, 1656, 1683,  630, 1724, 1649,  616,  691,  625,  612,  650,\n",
       "       1753,  658, 1750,  598,  729,  714,  607,  628,  589,  728,  925,\n",
       "       1638, 1713,  593,  600,  637,  641,  609,  633, 1745, 1783, 1770,\n",
       "        688, 1269, 1276, 1246, 1707,  605, 1247,  695,  595,  602,  194,\n",
       "        583,  716,  727, 1797, 1320, 1676,  673, 1802,  611, 1117,  689,\n",
       "       1757, 1774,  666,  617,  706,  627,  675, 1799, 1703,  670, 1719,\n",
       "       1759, 1554, 1778, 1064, 1238, 1531,  726,  632,  608, 1763,  725,\n",
       "        614,  697, 1775,  592,  723,  591, 1512, 1253,  580,  703, 1723,\n",
       "        722,  626, 1743,  561,  619,  652,  683,  717,  567,  601,  642,\n",
       "        577, 1736,  724, 1280,  715,  696,  665,  638,  581,  682,  660,\n",
       "       1104,  718, 1765,  704,  672,  721,  645,  603, 1794,  596, 1767,\n",
       "       1559,  631,  578,  659, 1274,  667,  681,  649,  565,  679,  562,\n",
       "       1647, 1726,  692,  707,  657])"
      ]
     },
     "execution_count": 124,
     "metadata": {},
     "output_type": "execute_result"
    }
   ],
   "source": [
    "df['user'].unique()"
   ]
  },
  {
   "cell_type": "code",
   "execution_count": 129,
   "metadata": {},
   "outputs": [],
   "source": [
    "df2 = df.loc[df['user'] < 600]"
   ]
  },
  {
   "cell_type": "code",
   "execution_count": 130,
   "metadata": {},
   "outputs": [],
   "source": [
    "df2.to_csv('users_below_id_600.csv')"
   ]
  },
  {
   "cell_type": "code",
   "execution_count": null,
   "metadata": {},
   "outputs": [],
   "source": []
  }
 ],
 "metadata": {
  "kernelspec": {
   "display_name": "Python 3",
   "language": "python",
   "name": "python3"
  },
  "language_info": {
   "codemirror_mode": {
    "name": "ipython",
    "version": 3
   },
   "file_extension": ".py",
   "mimetype": "text/x-python",
   "name": "python",
   "nbconvert_exporter": "python",
   "pygments_lexer": "ipython3",
   "version": "3.7.4"
  }
 },
 "nbformat": 4,
 "nbformat_minor": 2
}
