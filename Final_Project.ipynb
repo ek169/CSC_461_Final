{
 "cells": [
  {
   "cell_type": "markdown",
   "metadata": {},
   "source": [
    "<h4>Identifying Individuals Based Off Of Their Accelerometer Data Using The WISDM Data Set</h4>\n"
   ]
  },
  {
   "cell_type": "code",
   "execution_count": 1,
   "metadata": {},
   "outputs": [],
   "source": [
    "import numpy as np\n",
    "import pandas as pd"
   ]
  },
  {
   "cell_type": "code",
   "execution_count": 2,
   "metadata": {},
   "outputs": [
    {
     "name": "stderr",
     "output_type": "stream",
     "text": [
      "/usr/local/lib/python3.7/site-packages/IPython/core/interactiveshell.py:3058: DtypeWarning: Columns (2) have mixed types. Specify dtype option on import or set low_memory=False.\n",
      "  interactivity=interactivity, compiler=compiler, result=result)\n"
     ]
    }
   ],
   "source": [
    "columns = ['user','activity','timestamp', 'x-axis', 'y-axis', 'z-axis']\n",
    "\n",
    "# save this for making a new data set if need be\n",
    "# load in data set\n",
    "df = pd.read_csv('WISDM_at_v2.0_raw.txt', header = None, names = columns)\n",
    "\n",
    "# get rid of unnecessary characters\n",
    "df['z-axis'] = df['z-axis'].str.rstrip(';')\n",
    "\n",
    "# obtain only walking data since this has the most of any activity\n",
    "walking = df.loc[df.activity == 'Walking']"
   ]
  },
  {
   "cell_type": "code",
   "execution_count": 3,
   "metadata": {},
   "outputs": [
    {
     "data": {
      "text/plain": [
       "array([1679,  599,  685,  669, 1277,  674,  594,  678,  648,  584,  582,\n",
       "        636, 1758,  708,  711,  687,  563,  621,  623,  720, 1793,  568,\n",
       "        640,  671,  694,  664,  585,  684, 1480,  655, 1603,  651,  579,\n",
       "        613,  590,  639,  587,  719,  635, 1742,  624,  710,  676,  693,\n",
       "        646,  713,  610,  615,  705,  653,  702,  604,  618,  654,  656,\n",
       "        606,  998,  586, 1319,  668, 1768, 1100,  573, 1491,  712, 1518,\n",
       "        730,  622,  647, 1727, 1477,  588,  634,  661,  686,  690,  709,\n",
       "        663,  597, 1656,  630,  616,  691,  625,  612,  650,  658, 1750,\n",
       "        598,  729,  714,  607,  628,  589,  728,  925,  593,  600,  637,\n",
       "        641,  609,  633, 1783,  688,  605, 1247,  695,  595,  602,  194,\n",
       "        583,  716,  727, 1797, 1320, 1676,  673, 1802,  611, 1117,  689,\n",
       "       1774,  666,  617,  706,  627,  675, 1799, 1703,  670, 1759, 1554,\n",
       "       1778, 1064, 1238,  726,  632,  608,  725,  614,  697, 1775,  592,\n",
       "        723,  591, 1512, 1253,  580,  703,  722,  626,  561,  619,  652,\n",
       "        683,  717,  567,  601,  642,  577, 1736,  724,  715,  696,  665,\n",
       "        638,  581,  682,  660, 1104,  718,  704,  672,  721,  645,  603,\n",
       "        596, 1767, 1559,  631,  578,  659, 1274,  667,  681,  649,  565,\n",
       "        679,  562,  692,  707,  657])"
      ]
     },
     "execution_count": 3,
     "metadata": {},
     "output_type": "execute_result"
    }
   ],
   "source": [
    "# unique id's before getting rid of those without a sufficient amount of data\n",
    "walking.user.unique()"
   ]
  },
  {
   "cell_type": "code",
   "execution_count": 4,
   "metadata": {},
   "outputs": [],
   "source": [
    "# obtain only users who have over ~15 minutes of data\n",
    "for i in walking.user.unique():    \n",
    "    if len(walking[walking.user == i]) < 19000:\n",
    "        walking = walking[walking.user != i]"
   ]
  },
  {
   "cell_type": "code",
   "execution_count": 5,
   "metadata": {},
   "outputs": [
    {
     "data": {
      "text/plain": [
       "array([ 585, 1750,  688,  675, 1238,  603,  679])"
      ]
     },
     "execution_count": 5,
     "metadata": {},
     "output_type": "execute_result"
    }
   ],
   "source": [
    "# There are 7 unique users\n",
    "walking.user.unique()"
   ]
  },
  {
   "cell_type": "code",
   "execution_count": 6,
   "metadata": {},
   "outputs": [],
   "source": [
    "# get rid of unnecessary characters and rows with empty entries\n",
    "walking = walking[walking.columns.unique()].replace(';', '')\n",
    "walking = walking.dropna()\n",
    "\n",
    "# update columns to be usable types\n",
    "walking.timestamp = walking.timestamp.astype(int)\n",
    "walking['x-axis'] = walking['x-axis'].astype(float)\n",
    "walking['y-axis'] = walking['y-axis'].astype(float)\n",
    "walking['z-axis'] = walking['z-axis'].astype(float)\n"
   ]
  },
  {
   "cell_type": "code",
   "execution_count": 7,
   "metadata": {},
   "outputs": [],
   "source": [
    "# function to normalize time stamps starting at 0 milliseconds\n",
    "def normalize_time_stamps(df):\n",
    "\n",
    "    # iterate through all users\n",
    "    for user in df.user.unique():\n",
    "\n",
    "        # iterate through all activities\n",
    "        for activity in df.activity.unique():\n",
    "\n",
    "            key = (df.user == user) & (df.activity == activity)\n",
    "            # obtain all rows for a particular user and an activity\n",
    "            user_activity_to_process = df[key]\n",
    "            \n",
    "            # if there are no rows for this activity, drop the activity from that user\n",
    "            if len(user_activity_to_process.timestamp) == 0:\n",
    "                df[(df.user == user)] = df[(df.user == user) & (df.activity != activity)]\n",
    "                break\n",
    "\n",
    "            # otherwise normalize the time stamps to start at 0, and be in milliseconds?\n",
    "            else:\n",
    "                df.loc[key, 'timestamp'] -= user_activity_to_process.timestamp.iloc[0]\n",
    "                df.loc[key, 'timestamp'] /= 1000\n",
    "                print(df[key])\n",
    "                            \n",
    "    return df"
   ]
  },
  {
   "cell_type": "code",
   "execution_count": 8,
   "metadata": {},
   "outputs": [
    {
     "name": "stdout",
     "output_type": "stream",
     "text": [
      "        user activity  timestamp    x-axis    y-axis     z-axis\n",
      "316949   585  Walking       0.00  3.173541 -0.694638   9.152874\n",
      "316950   585  Walking       0.05  3.146300 -0.340509   9.193735\n",
      "316951   585  Walking       0.10  1.184970 -0.040861  10.841797\n",
      "316952   585  Walking       0.15  2.792171  0.653777  10.310603\n",
      "316953   585  Walking       0.20  2.220117  0.503953  10.106298\n",
      "...      ...      ...        ...       ...       ...        ...\n",
      "342233   585  Walking    1333.50 -0.463092  5.706926   8.349273\n",
      "342234   585  Walking    1333.55 -1.607201  5.516241   8.621680\n",
      "342235   585  Walking    1333.60 -1.307553  5.625204   8.539958\n",
      "342236   585  Walking    1333.65 -1.334794  5.788648   9.003050\n",
      "342237   585  Walking    1333.70 -1.225831  6.020194   8.471856\n",
      "\n",
      "[21886 rows x 6 columns]\n",
      "         user activity  timestamp    x-axis     y-axis     z-axis\n",
      "1492383  1750  Walking      0.000 -3.823853  12.672226   0.331696\n",
      "1492384  1750  Walking      0.050  4.261078   4.433762  10.710114\n",
      "1492385  1750  Walking      0.100  0.363220   1.526138   1.949158\n",
      "1492386  1750  Walking      0.150 -1.498230   1.722519  -0.463348\n",
      "1492387  1750  Walking      0.200 -2.353973   2.699661  -4.098175\n",
      "...       ...      ...        ...       ...        ...        ...\n",
      "1534378  1750  Walking  48676.379  0.068054  -9.619949   1.486176\n",
      "1534379  1750  Walking  48676.429  0.004974  -9.487839   1.720642\n",
      "1534380  1750  Walking  48676.479  0.020447  -9.542587   1.484985\n",
      "1534381  1750  Walking  48676.529  0.034729  -9.554489   1.561157\n",
      "1534382  1750  Walking  48676.577  0.039490  -9.483078   1.382629\n",
      "\n",
      "[42000 rows x 6 columns]\n",
      "         user activity  timestamp  x-axis  y-axis    z-axis\n",
      "1711818   688  Walking       0.00   -0.04    8.62  2.873893\n",
      "1711819   688  Walking       0.05    0.69    9.53  4.181447\n",
      "1711820   688  Walking       0.10   -0.76    8.92  4.140586\n",
      "1711821   688  Walking       0.15   -1.57    8.58  3.636633\n",
      "1711822   688  Walking       0.20   -1.08    8.35  3.786457\n",
      "...       ...      ...        ...     ...     ...       ...\n",
      "1731683   688  Walking     708.35    2.45    9.30  0.762740\n",
      "1731684   688  Walking     708.35    2.45    9.30  0.762740\n",
      "1731685   688  Walking     708.35    2.45    9.30  0.762740\n",
      "1731686   688  Walking     708.35    2.45    9.30  0.762740\n",
      "1731687   688  Walking     708.35    2.45    9.30  0.762740\n",
      "\n",
      "[19870 rows x 6 columns]\n",
      "         user activity  timestamp  x-axis  y-axis  z-axis\n",
      "2044043   675  Walking       0.00    5.67    6.74    1.65\n",
      "2044044   675  Walking       0.05    9.85   13.67   -7.25\n",
      "2044045   675  Walking       0.10   -1.12   11.30  -10.50\n",
      "2044046   675  Walking       0.15   -0.38    0.04   -0.57\n",
      "2044047   675  Walking       0.20    1.92    4.37   -6.13\n",
      "...       ...      ...        ...     ...     ...     ...\n",
      "2063190   675  Walking     628.85    6.32   -0.89   -9.30\n",
      "2063191   675  Walking     628.85    6.32   -0.89   -9.30\n",
      "2063192   675  Walking     628.85    6.32   -0.89   -9.30\n",
      "2063193   675  Walking     628.85    6.32   -0.89   -9.30\n",
      "2063194   675  Walking     628.85    6.32   -0.89   -9.30\n",
      "\n",
      "[19152 rows x 6 columns]\n",
      "         user activity    timestamp    x-axis     y-axis    z-axis\n",
      "2189151  1238  Walking        0.000  0.481763  -0.960870 -0.370048\n",
      "2189152  1238  Walking        0.050 -3.960699   0.604336  0.816441\n",
      "2189153  1238  Walking        0.100 -2.920429   1.438897  1.006162\n",
      "2189154  1238  Walking        0.150 -2.015523  -1.302469  0.530793\n",
      "2189155  1238  Walking        0.200 -2.504748   0.271792  1.220398\n",
      "...       ...      ...          ...       ...        ...       ...\n",
      "2238595  1238  Walking  5785081.598  2.413355 -16.203957 -0.076614\n",
      "2238596  1238  Walking  5785081.648  4.865018  -8.963891 -3.600879\n",
      "2238597  1238  Walking  5785081.698  2.758120  -4.137180 -0.344765\n",
      "2238598  1238  Walking  5785081.748 -2.643199 -10.228029  4.750096\n",
      "2238599  1238  Walking  5785081.797 -4.788404  -9.615114 -0.497994\n",
      "\n",
      "[34121 rows x 6 columns]\n",
      "         user activity    timestamp    x-axis     y-axis    z-axis\n",
      "2758469   603  Walking        0.000  0.844462   8.008764  2.792171\n",
      "2758470   603  Walking        0.050  1.116869   8.621680  3.786457\n",
      "2758471   603  Walking        0.100 -0.503953  16.657684  1.307553\n",
      "2758472   603  Walking        0.150  4.794363  10.760075 -1.184970\n",
      "2758473   603  Walking        0.200 -0.040861   9.234595 -0.694638\n",
      "...       ...      ...          ...       ...        ...       ...\n",
      "2783058   603  Walking  5165610.220  0.885323  12.598822  0.149824\n",
      "2783059   603  Walking  5165610.221  0.081722   9.806650  1.757025\n",
      "2783060   603  Walking  5165610.222 -4.630918   6.851035  4.821603\n",
      "2783061   603  Walking  5165610.223  3.718355  -3.636633  8.689782\n",
      "2783062   603  Walking  5165610.224  5.284695  -0.190685  8.267551\n",
      "\n",
      "[19773 rows x 6 columns]\n",
      "         user activity  timestamp  x-axis  y-axis  z-axis\n",
      "2917653   679  Walking       0.00   -2.76    5.05   -0.53\n",
      "2917654   679  Walking       0.05   -0.93    4.90    0.57\n",
      "2917655   679  Walking       0.10    5.79   11.03    0.23\n",
      "2917656   679  Walking       0.15    7.40   11.26    0.69\n",
      "2917657   679  Walking       0.20    6.85   11.65    1.92\n",
      "...       ...      ...        ...     ...     ...     ...\n",
      "2954527   679  Walking    1563.75    1.80    5.52    4.75\n",
      "2954528   679  Walking    1563.75    1.80    5.52    4.75\n",
      "2954529   679  Walking    1563.75    1.80    5.52    4.75\n",
      "2954530   679  Walking    1563.75    1.80    5.52    4.75\n",
      "2954531   679  Walking    1563.75    1.80    5.52    4.75\n",
      "\n",
      "[24193 rows x 6 columns]\n",
      "316949       0.00\n",
      "316950       0.05\n",
      "316951       0.10\n",
      "316952       0.15\n",
      "316953       0.20\n",
      "           ...   \n",
      "342233    1333.50\n",
      "342234    1333.55\n",
      "342235    1333.60\n",
      "342236    1333.65\n",
      "342237    1333.70\n",
      "Name: timestamp, Length: 21886, dtype: float64\n",
      "1492383        0.000\n",
      "1492384        0.050\n",
      "1492385        0.100\n",
      "1492386        0.150\n",
      "1492387        0.200\n",
      "             ...    \n",
      "1534378    48676.379\n",
      "1534379    48676.429\n",
      "1534380    48676.479\n",
      "1534381    48676.529\n",
      "1534382    48676.577\n",
      "Name: timestamp, Length: 42000, dtype: float64\n",
      "1711818      0.00\n",
      "1711819      0.05\n",
      "1711820      0.10\n",
      "1711821      0.15\n",
      "1711822      0.20\n",
      "            ...  \n",
      "1731683    708.35\n",
      "1731684    708.35\n",
      "1731685    708.35\n",
      "1731686    708.35\n",
      "1731687    708.35\n",
      "Name: timestamp, Length: 19870, dtype: float64\n",
      "2044043      0.00\n",
      "2044044      0.05\n",
      "2044045      0.10\n",
      "2044046      0.15\n",
      "2044047      0.20\n",
      "            ...  \n",
      "2063190    628.85\n",
      "2063191    628.85\n",
      "2063192    628.85\n",
      "2063193    628.85\n",
      "2063194    628.85\n",
      "Name: timestamp, Length: 19152, dtype: float64\n",
      "2189151          0.000\n",
      "2189152          0.050\n",
      "2189153          0.100\n",
      "2189154          0.150\n",
      "2189155          0.200\n",
      "              ...     \n",
      "2238595    5785081.598\n",
      "2238596    5785081.648\n",
      "2238597    5785081.698\n",
      "2238598    5785081.748\n",
      "2238599    5785081.797\n",
      "Name: timestamp, Length: 34121, dtype: float64\n",
      "2758469          0.000\n",
      "2758470          0.050\n",
      "2758471          0.100\n",
      "2758472          0.150\n",
      "2758473          0.200\n",
      "              ...     \n",
      "2783058    5165610.220\n",
      "2783059    5165610.221\n",
      "2783060    5165610.222\n",
      "2783061    5165610.223\n",
      "2783062    5165610.224\n",
      "Name: timestamp, Length: 19773, dtype: float64\n",
      "2917653       0.00\n",
      "2917654       0.05\n",
      "2917655       0.10\n",
      "2917656       0.15\n",
      "2917657       0.20\n",
      "            ...   \n",
      "2954527    1563.75\n",
      "2954528    1563.75\n",
      "2954529    1563.75\n",
      "2954530    1563.75\n",
      "2954531    1563.75\n",
      "Name: timestamp, Length: 24193, dtype: float64\n"
     ]
    }
   ],
   "source": [
    "# obtain a data set with normalized time stamps\n",
    "# this doesn't really matter for actual training, but it's nice to have clean timestamps\n",
    "walking_norm = normalize_time_stamps(walking)\n",
    "for user in walking_norm.user.unique():\n",
    "    print(walking_norm.loc[walking_norm.user == user, 'timestamp'])"
   ]
  },
  {
   "cell_type": "code",
   "execution_count": 9,
   "metadata": {},
   "outputs": [],
   "source": [
    "from sklearn.preprocessing import StandardScaler\n",
    "\n",
    "# scale x,y,z axes\n",
    "scaler = StandardScaler()\n",
    "walking_norm[['x-axis', 'y-axis', 'z-axis']] = scaler.fit_transform(walking_norm[['x-axis', 'y-axis', 'z-axis']].to_numpy())"
   ]
  },
  {
   "cell_type": "code",
   "execution_count": 21,
   "metadata": {},
   "outputs": [],
   "source": [
    "# utilize 2 second windows with 50% overlap \n",
    "new_features = []\n",
    "labels = []\n",
    "\n",
    "# 20 HZ sampling means 20 samples every second. Therefore 2 seconds is 40 samples, .\n",
    "step_size = 20\n",
    "window_size = 40\n",
    "\n",
    "for user in walking_norm.user.unique():\n",
    "    user_walking_data = walking_norm[walking_norm.user == user]\n",
    "\n",
    "    # go through each users walking data and transform it into \n",
    "    for window_start in range(0, len(user_walking_data) - window_size, step_size):\n",
    "        x = user_walking_data['x-axis'].values[window_start: window_start + window_size]\n",
    "        y = user_walking_data['y-axis'].values[window_start: window_start + window_size]\n",
    "        z = user_walking_data['z-axis'].values[window_start: window_start + window_size]\n",
    "        new_features.append([x, y, z])\n",
    "\n",
    "        # label for a data window is just the user\n",
    "        labels.append(user)\n",
    "\n",
    "# Convert to numpy\n",
    "new_features = np.asarray(new_features, dtype=np.float32).transpose(0, 2, 1)"
   ]
  },
  {
   "cell_type": "code",
   "execution_count": 60,
   "metadata": {},
   "outputs": [],
   "source": [
    "# perform preprocessing \n",
    "from scipy.signal import find_peaks, peak_widths\n",
    "from numpy import linalg as LA\n",
    "\n",
    "\n",
    "def preprocess_xyz(features, labels):\n",
    "    \n",
    "    # array to hold new vector\n",
    "    processed_features = []\n",
    "    \n",
    "    # columns for each new feature that's derived from x,y,z accelerometer data\n",
    "    new_columns = [\n",
    "               'x_mean', 'y_mean', 'z_mean', \n",
    "               'x_median', 'y_median', 'z_median', \n",
    "               'magnitude',\n",
    "               'xz_cor', 'yz_cor',\n",
    "               'x_peaks', 'y_peaks', 'z_peaks', 'avg_peaks',\n",
    "               'x_peak_width_mean', 'y_peak_width_mean', 'z_peak_width_mean'\n",
    "              ]\n",
    "    for row in features:\n",
    "        \n",
    "        # obtain x,y,z axes data for particular window\n",
    "        x = row[:,0]\n",
    "        y = row[:,1]\n",
    "        z = row[:,2]\n",
    "        \n",
    "        # find the peaks of height greater than 0.5 for x,y,z axes\n",
    "        x_peaks, _ = find_peaks(x, height=0.1)\n",
    "        y_peaks, _ = find_peaks(y, height=0.1)\n",
    "        z_peaks, _ = find_peaks(z, height=0.1)\n",
    "        \n",
    "        # obtain average width of peaks from base for x,y,z axes\n",
    "        x_peak_widths = peak_widths(x, x_peaks, rel_height=0)\n",
    "        y_peak_widths = peak_widths(y, y_peaks, rel_height=0)\n",
    "        z_peak_widths = peak_widths(z, z_peaks, rel_height=0)\n",
    "        \n",
    "        # 16 time domain features per row \n",
    "        # we may want to include these same features for the frequency domain\n",
    "        new_row = [\n",
    "                   np.average(x), np.average(y), np.average(z),\n",
    "                   np.median(x),  np.median(y),  np.median(z),\n",
    "                   LA.norm(row),\n",
    "                   np.average(x)/np.average(z), np.average(y)/np.average(z),\n",
    "                   len(x_peaks), len(y_peaks), len(z_peaks), len(x_peaks)+len(y_peaks)+len(z_peaks)/3,\n",
    "                   np.average(x_peak_widths), np.average(y_peak_widths), np.average(z_peak_widths)\n",
    "                   ]\n",
    "        \n",
    "        # append the new feature row to the data set\n",
    "        processed_features.append(new_row)\n",
    "\n",
    "        \n",
    "    # create dataframe so we can see what's going on in the data\n",
    "    processed_data = pd.DataFrame(processed_features, columns=new_columns)\n",
    "\n",
    "    # append column of users\n",
    "    processed_data['user'] = labels\n",
    "    \n",
    "    return processed_data\n"
   ]
  },
  {
   "cell_type": "code",
   "execution_count": 98,
   "metadata": {},
   "outputs": [
    {
     "name": "stderr",
     "output_type": "stream",
     "text": [
      "/usr/local/lib/python3.7/site-packages/ipykernel_launcher.py:33: PeakPropertyWarning: some peaks have a width of 0\n",
      "/usr/local/lib/python3.7/site-packages/ipykernel_launcher.py:34: PeakPropertyWarning: some peaks have a width of 0\n",
      "/usr/local/lib/python3.7/site-packages/ipykernel_launcher.py:35: PeakPropertyWarning: some peaks have a width of 0\n"
     ]
    }
   ],
   "source": [
    "# process our data\n",
    "feature_vector = preprocess_xyz(new_features, labels)"
   ]
  },
  {
   "cell_type": "code",
   "execution_count": 103,
   "metadata": {},
   "outputs": [],
   "source": [
    "# this shows that there are some data points that are homogenous where no movement took\n",
    "# place within the two seconds. Maybe widening the window makes sense then? If not ...\n",
    "feature_vector = feature_vector.dropna(axis='rows')"
   ]
  },
  {
   "cell_type": "code",
   "execution_count": 104,
   "metadata": {},
   "outputs": [
    {
     "data": {
      "text/html": [
       "<div>\n",
       "<style scoped>\n",
       "    .dataframe tbody tr th:only-of-type {\n",
       "        vertical-align: middle;\n",
       "    }\n",
       "\n",
       "    .dataframe tbody tr th {\n",
       "        vertical-align: top;\n",
       "    }\n",
       "\n",
       "    .dataframe thead th {\n",
       "        text-align: right;\n",
       "    }\n",
       "</style>\n",
       "<table border=\"1\" class=\"dataframe\">\n",
       "  <thead>\n",
       "    <tr style=\"text-align: right;\">\n",
       "      <th></th>\n",
       "      <th>x_mean</th>\n",
       "      <th>y_mean</th>\n",
       "      <th>z_mean</th>\n",
       "      <th>x_median</th>\n",
       "      <th>y_median</th>\n",
       "      <th>z_median</th>\n",
       "      <th>magnitude</th>\n",
       "      <th>xz_cor</th>\n",
       "      <th>yz_cor</th>\n",
       "      <th>x_peaks</th>\n",
       "      <th>y_peaks</th>\n",
       "      <th>z_peaks</th>\n",
       "      <th>avg_peaks</th>\n",
       "      <th>x_peak_width_mean</th>\n",
       "      <th>y_peak_width_mean</th>\n",
       "      <th>z_peak_width_mean</th>\n",
       "      <th>user</th>\n",
       "    </tr>\n",
       "  </thead>\n",
       "  <tbody>\n",
       "    <tr>\n",
       "      <td>0</td>\n",
       "      <td>0.946990</td>\n",
       "      <td>0.185893</td>\n",
       "      <td>1.065598</td>\n",
       "      <td>1.158928</td>\n",
       "      <td>0.120059</td>\n",
       "      <td>0.919775</td>\n",
       "      <td>11.609760</td>\n",
       "      <td>0.888694</td>\n",
       "      <td>0.174449</td>\n",
       "      <td>10</td>\n",
       "      <td>7</td>\n",
       "      <td>7</td>\n",
       "      <td>19.333333</td>\n",
       "      <td>10.400560</td>\n",
       "      <td>13.131824</td>\n",
       "      <td>12.063192</td>\n",
       "      <td>585</td>\n",
       "    </tr>\n",
       "    <tr>\n",
       "      <td>1</td>\n",
       "      <td>0.366839</td>\n",
       "      <td>0.635225</td>\n",
       "      <td>0.176146</td>\n",
       "      <td>0.131353</td>\n",
       "      <td>0.686723</td>\n",
       "      <td>0.132228</td>\n",
       "      <td>7.590978</td>\n",
       "      <td>2.082582</td>\n",
       "      <td>3.606237</td>\n",
       "      <td>8</td>\n",
       "      <td>12</td>\n",
       "      <td>9</td>\n",
       "      <td>23.000000</td>\n",
       "      <td>6.475202</td>\n",
       "      <td>9.534724</td>\n",
       "      <td>8.438801</td>\n",
       "      <td>585</td>\n",
       "    </tr>\n",
       "    <tr>\n",
       "      <td>2</td>\n",
       "      <td>-0.243062</td>\n",
       "      <td>0.845441</td>\n",
       "      <td>0.094488</td>\n",
       "      <td>-0.134399</td>\n",
       "      <td>0.879132</td>\n",
       "      <td>0.002707</td>\n",
       "      <td>7.168393</td>\n",
       "      <td>-2.572402</td>\n",
       "      <td>8.947568</td>\n",
       "      <td>4</td>\n",
       "      <td>12</td>\n",
       "      <td>6</td>\n",
       "      <td>18.000000</td>\n",
       "      <td>13.980551</td>\n",
       "      <td>10.748320</td>\n",
       "      <td>8.941076</td>\n",
       "      <td>585</td>\n",
       "    </tr>\n",
       "    <tr>\n",
       "      <td>3</td>\n",
       "      <td>-0.172490</td>\n",
       "      <td>0.898146</td>\n",
       "      <td>0.266439</td>\n",
       "      <td>-0.116682</td>\n",
       "      <td>0.957605</td>\n",
       "      <td>0.047370</td>\n",
       "      <td>7.939472</td>\n",
       "      <td>-0.647392</td>\n",
       "      <td>3.370931</td>\n",
       "      <td>6</td>\n",
       "      <td>9</td>\n",
       "      <td>10</td>\n",
       "      <td>18.333333</td>\n",
       "      <td>10.429657</td>\n",
       "      <td>8.942399</td>\n",
       "      <td>10.937046</td>\n",
       "      <td>585</td>\n",
       "    </tr>\n",
       "    <tr>\n",
       "      <td>4</td>\n",
       "      <td>-0.179282</td>\n",
       "      <td>0.891657</td>\n",
       "      <td>0.336782</td>\n",
       "      <td>-0.183120</td>\n",
       "      <td>0.922141</td>\n",
       "      <td>0.123296</td>\n",
       "      <td>8.095704</td>\n",
       "      <td>-0.532337</td>\n",
       "      <td>2.647580</td>\n",
       "      <td>7</td>\n",
       "      <td>9</td>\n",
       "      <td>11</td>\n",
       "      <td>19.666667</td>\n",
       "      <td>10.381932</td>\n",
       "      <td>11.969743</td>\n",
       "      <td>9.077658</td>\n",
       "      <td>585</td>\n",
       "    </tr>\n",
       "    <tr>\n",
       "      <td>...</td>\n",
       "      <td>...</td>\n",
       "      <td>...</td>\n",
       "      <td>...</td>\n",
       "      <td>...</td>\n",
       "      <td>...</td>\n",
       "      <td>...</td>\n",
       "      <td>...</td>\n",
       "      <td>...</td>\n",
       "      <td>...</td>\n",
       "      <td>...</td>\n",
       "      <td>...</td>\n",
       "      <td>...</td>\n",
       "      <td>...</td>\n",
       "      <td>...</td>\n",
       "      <td>...</td>\n",
       "      <td>...</td>\n",
       "      <td>...</td>\n",
       "    </tr>\n",
       "    <tr>\n",
       "      <td>8690</td>\n",
       "      <td>-1.608903</td>\n",
       "      <td>0.949615</td>\n",
       "      <td>0.170309</td>\n",
       "      <td>-1.511779</td>\n",
       "      <td>1.067475</td>\n",
       "      <td>0.026904</td>\n",
       "      <td>15.860342</td>\n",
       "      <td>-9.446944</td>\n",
       "      <td>5.575825</td>\n",
       "      <td>1</td>\n",
       "      <td>9</td>\n",
       "      <td>7</td>\n",
       "      <td>12.333333</td>\n",
       "      <td>5.595749</td>\n",
       "      <td>10.986391</td>\n",
       "      <td>10.337212</td>\n",
       "      <td>679</td>\n",
       "    </tr>\n",
       "    <tr>\n",
       "      <td>8692</td>\n",
       "      <td>-1.399155</td>\n",
       "      <td>0.855410</td>\n",
       "      <td>-0.146888</td>\n",
       "      <td>-1.445657</td>\n",
       "      <td>0.849759</td>\n",
       "      <td>-0.260564</td>\n",
       "      <td>13.522972</td>\n",
       "      <td>9.525287</td>\n",
       "      <td>-5.823532</td>\n",
       "      <td>1</td>\n",
       "      <td>8</td>\n",
       "      <td>5</td>\n",
       "      <td>10.666667</td>\n",
       "      <td>14.083283</td>\n",
       "      <td>10.020809</td>\n",
       "      <td>11.780324</td>\n",
       "      <td>679</td>\n",
       "    </tr>\n",
       "    <tr>\n",
       "      <td>8693</td>\n",
       "      <td>-1.372164</td>\n",
       "      <td>0.808598</td>\n",
       "      <td>-0.126558</td>\n",
       "      <td>-1.237536</td>\n",
       "      <td>0.762784</td>\n",
       "      <td>-0.161098</td>\n",
       "      <td>13.176128</td>\n",
       "      <td>10.842170</td>\n",
       "      <td>-6.389146</td>\n",
       "      <td>1</td>\n",
       "      <td>8</td>\n",
       "      <td>6</td>\n",
       "      <td>11.000000</td>\n",
       "      <td>4.083283</td>\n",
       "      <td>9.835559</td>\n",
       "      <td>10.045914</td>\n",
       "      <td>679</td>\n",
       "    </tr>\n",
       "    <tr>\n",
       "      <td>8694</td>\n",
       "      <td>-1.408098</td>\n",
       "      <td>0.859426</td>\n",
       "      <td>-0.023868</td>\n",
       "      <td>-1.530207</td>\n",
       "      <td>0.897956</td>\n",
       "      <td>-0.038678</td>\n",
       "      <td>13.342424</td>\n",
       "      <td>58.995792</td>\n",
       "      <td>-36.007816</td>\n",
       "      <td>1</td>\n",
       "      <td>8</td>\n",
       "      <td>6</td>\n",
       "      <td>11.000000</td>\n",
       "      <td>14.049680</td>\n",
       "      <td>9.915821</td>\n",
       "      <td>10.818047</td>\n",
       "      <td>679</td>\n",
       "    </tr>\n",
       "    <tr>\n",
       "      <td>8695</td>\n",
       "      <td>-1.415306</td>\n",
       "      <td>0.902609</td>\n",
       "      <td>0.054065</td>\n",
       "      <td>-1.307993</td>\n",
       "      <td>1.042546</td>\n",
       "      <td>-0.106446</td>\n",
       "      <td>13.211211</td>\n",
       "      <td>-26.177675</td>\n",
       "      <td>16.694771</td>\n",
       "      <td>1</td>\n",
       "      <td>7</td>\n",
       "      <td>6</td>\n",
       "      <td>10.000000</td>\n",
       "      <td>4.049680</td>\n",
       "      <td>8.822718</td>\n",
       "      <td>10.878437</td>\n",
       "      <td>679</td>\n",
       "    </tr>\n",
       "  </tbody>\n",
       "</table>\n",
       "<p>4782 rows × 17 columns</p>\n",
       "</div>"
      ],
      "text/plain": [
       "        x_mean    y_mean    z_mean  x_median  y_median  z_median  magnitude  \\\n",
       "0     0.946990  0.185893  1.065598  1.158928  0.120059  0.919775  11.609760   \n",
       "1     0.366839  0.635225  0.176146  0.131353  0.686723  0.132228   7.590978   \n",
       "2    -0.243062  0.845441  0.094488 -0.134399  0.879132  0.002707   7.168393   \n",
       "3    -0.172490  0.898146  0.266439 -0.116682  0.957605  0.047370   7.939472   \n",
       "4    -0.179282  0.891657  0.336782 -0.183120  0.922141  0.123296   8.095704   \n",
       "...        ...       ...       ...       ...       ...       ...        ...   \n",
       "8690 -1.608903  0.949615  0.170309 -1.511779  1.067475  0.026904  15.860342   \n",
       "8692 -1.399155  0.855410 -0.146888 -1.445657  0.849759 -0.260564  13.522972   \n",
       "8693 -1.372164  0.808598 -0.126558 -1.237536  0.762784 -0.161098  13.176128   \n",
       "8694 -1.408098  0.859426 -0.023868 -1.530207  0.897956 -0.038678  13.342424   \n",
       "8695 -1.415306  0.902609  0.054065 -1.307993  1.042546 -0.106446  13.211211   \n",
       "\n",
       "         xz_cor     yz_cor  x_peaks  y_peaks  z_peaks  avg_peaks  \\\n",
       "0      0.888694   0.174449       10        7        7  19.333333   \n",
       "1      2.082582   3.606237        8       12        9  23.000000   \n",
       "2     -2.572402   8.947568        4       12        6  18.000000   \n",
       "3     -0.647392   3.370931        6        9       10  18.333333   \n",
       "4     -0.532337   2.647580        7        9       11  19.666667   \n",
       "...         ...        ...      ...      ...      ...        ...   \n",
       "8690  -9.446944   5.575825        1        9        7  12.333333   \n",
       "8692   9.525287  -5.823532        1        8        5  10.666667   \n",
       "8693  10.842170  -6.389146        1        8        6  11.000000   \n",
       "8694  58.995792 -36.007816        1        8        6  11.000000   \n",
       "8695 -26.177675  16.694771        1        7        6  10.000000   \n",
       "\n",
       "      x_peak_width_mean  y_peak_width_mean  z_peak_width_mean  user  \n",
       "0             10.400560          13.131824          12.063192   585  \n",
       "1              6.475202           9.534724           8.438801   585  \n",
       "2             13.980551          10.748320           8.941076   585  \n",
       "3             10.429657           8.942399          10.937046   585  \n",
       "4             10.381932          11.969743           9.077658   585  \n",
       "...                 ...                ...                ...   ...  \n",
       "8690           5.595749          10.986391          10.337212   679  \n",
       "8692          14.083283          10.020809          11.780324   679  \n",
       "8693           4.083283           9.835559          10.045914   679  \n",
       "8694          14.049680           9.915821          10.818047   679  \n",
       "8695           4.049680           8.822718          10.878437   679  \n",
       "\n",
       "[4782 rows x 17 columns]"
      ]
     },
     "execution_count": 104,
     "metadata": {},
     "output_type": "execute_result"
    }
   ],
   "source": [
    "feature_vector"
   ]
  },
  {
   "cell_type": "code",
   "execution_count": 105,
   "metadata": {},
   "outputs": [
    {
     "data": {
      "image/png": "[encoded data removed]",
      "text/plain": [
       "<Figure size 432x288 with 1 Axes>"
      ]
     },
     "metadata": {
      "needs_background": "light"
     },
     "output_type": "display_data"
    },
    {
     "data": {
      "image/png": "[encoded data removed]",
      "text/plain": [
       "<Figure size 432x288 with 1 Axes>"
      ]
     },
     "metadata": {
      "needs_background": "light"
     },
     "output_type": "display_data"
    }
   ],
   "source": [
    "# example of there being no movement in a window\n",
    "import matplotlib.pyplot as plt\n",
    "row = new_features[-100]\n",
    "x = row[:,0]\n",
    "peaks, _ = find_peaks(x, height=0.0)\n",
    "plt.plot(x)\n",
    "plt.plot(peaks, x[peaks], \"x\")\n",
    "plt.plot(np.zeros_like(x), \"--\", color=\"gray\")\n",
    "plt.show()\n",
    "\n",
    "# an example where there is movement in a window\n",
    "row = new_features[1500]\n",
    "x = row[:,0]\n",
    "peaks, _ = find_peaks(x, height=0.0)\n",
    "plt.plot(x)\n",
    "plt.plot(peaks, x[peaks], \"x\")\n",
    "plt.plot(np.zeros_like(x), \"--\", color=\"gray\")\n",
    "plt.show()"
   ]
  },
  {
   "cell_type": "code",
   "execution_count": 106,
   "metadata": {},
   "outputs": [],
   "source": [
    "''' \n",
    "Then it's clear that there are some useless data points in this set because \n",
    "there is no movement. So we'll get rid of it.\n",
    "'''\n",
    "useful_feature_vector = feature_vector[feature_vector['avg_peaks'] != 0]\n",
    "\n",
    "# now our training set and labels are ready to be used\n",
    "X = useful_feature_vector.drop(columns=['user']).to_numpy()\n",
    "y = useful_feature_vector['user'].to_numpy()"
   ]
  },
  {
   "cell_type": "markdown",
   "metadata": {},
   "source": [
    "<h4>Prepare Models</h4>"
   ]
  },
  {
   "cell_type": "code",
   "execution_count": 123,
   "metadata": {},
   "outputs": [],
   "source": [
    "# first let's try a RF (Random Forest)\n",
    "\n",
    "from sklearn.ensemble import RandomForestClassifier\n",
    "from sklearn.datasets import make_classification\n",
    "from sklearn.metrics import accuracy_score\n",
    "\n",
    "def random_forest(X_train, y_train, X_test, y_test, metrics=False):\n",
    "    rfc = RandomForestClassifier(n_jobs=2, random_state=0)\n",
    "    rfc.fit(X_train, y_train)\n",
    "    preds = rfc.predict(X_test)\n",
    "    accuracy = accuracy_score(y_test, preds)\n",
    "    \n",
    "    if metrics:\n",
    "        print(pd.crosstab(y_test, preds, rownames=['Actual User'], colnames=['Predicted User']))\n",
    "        print(\"Accuracy For Random Forest Is: \" + str(accuracy))\n",
    "        \n",
    "    return accuracy"
   ]
  },
  {
   "cell_type": "code",
   "execution_count": 124,
   "metadata": {},
   "outputs": [
    {
     "name": "stderr",
     "output_type": "stream",
     "text": [
      "/usr/local/lib/python3.7/site-packages/sklearn/ensemble/forest.py:245: FutureWarning: The default value of n_estimators will change from 10 in version 0.20 to 100 in 0.22.\n",
      "  \"10 in version 0.20 to 100 in 0.22.\", FutureWarning)\n"
     ]
    },
    {
     "data": {
      "text/plain": [
       "0.981000633312223"
      ]
     },
     "execution_count": 124,
     "metadata": {},
     "output_type": "execute_result"
    }
   ],
   "source": [
    "# quickly test random forest\n",
    "from sklearn.model_selection import train_test_split\n",
    "X_train, X_test, y_train, y_test = train_test_split(\n",
    "              X, y, test_size=0.33, random_state=42)\n",
    "\n",
    "# looks like we're in business\n",
    "random_forest(X_train, y_train, X_test, y_test)\n",
    "\n"
   ]
  },
  {
   "cell_type": "markdown",
   "metadata": {},
   "source": [
    "<b>K-Fold Cross Validation</b>"
   ]
  },
  {
   "cell_type": "code",
   "execution_count": 131,
   "metadata": {},
   "outputs": [
    {
     "name": "stderr",
     "output_type": "stream",
     "text": [
      "/usr/local/lib/python3.7/site-packages/sklearn/ensemble/forest.py:245: FutureWarning: The default value of n_estimators will change from 10 in version 0.20 to 100 in 0.22.\n",
      "  \"10 in version 0.20 to 100 in 0.22.\", FutureWarning)\n"
     ]
    },
    {
     "name": "stdout",
     "output_type": "stream",
     "text": [
      "Accuracy: 0.9812108559498957\n"
     ]
    },
    {
     "name": "stderr",
     "output_type": "stream",
     "text": [
      "/usr/local/lib/python3.7/site-packages/sklearn/ensemble/forest.py:245: FutureWarning: The default value of n_estimators will change from 10 in version 0.20 to 100 in 0.22.\n",
      "  \"10 in version 0.20 to 100 in 0.22.\", FutureWarning)\n"
     ]
    },
    {
     "name": "stdout",
     "output_type": "stream",
     "text": [
      "Accuracy: 0.9791231732776617\n"
     ]
    },
    {
     "name": "stderr",
     "output_type": "stream",
     "text": [
      "/usr/local/lib/python3.7/site-packages/sklearn/ensemble/forest.py:245: FutureWarning: The default value of n_estimators will change from 10 in version 0.20 to 100 in 0.22.\n",
      "  \"10 in version 0.20 to 100 in 0.22.\", FutureWarning)\n"
     ]
    },
    {
     "name": "stdout",
     "output_type": "stream",
     "text": [
      "Accuracy: 0.9853556485355649\n"
     ]
    },
    {
     "name": "stderr",
     "output_type": "stream",
     "text": [
      "/usr/local/lib/python3.7/site-packages/sklearn/ensemble/forest.py:245: FutureWarning: The default value of n_estimators will change from 10 in version 0.20 to 100 in 0.22.\n",
      "  \"10 in version 0.20 to 100 in 0.22.\", FutureWarning)\n"
     ]
    },
    {
     "name": "stdout",
     "output_type": "stream",
     "text": [
      "Accuracy: 0.9853556485355649\n"
     ]
    },
    {
     "name": "stderr",
     "output_type": "stream",
     "text": [
      "/usr/local/lib/python3.7/site-packages/sklearn/ensemble/forest.py:245: FutureWarning: The default value of n_estimators will change from 10 in version 0.20 to 100 in 0.22.\n",
      "  \"10 in version 0.20 to 100 in 0.22.\", FutureWarning)\n"
     ]
    },
    {
     "name": "stdout",
     "output_type": "stream",
     "text": [
      "Accuracy: 0.9916317991631799\n"
     ]
    },
    {
     "name": "stderr",
     "output_type": "stream",
     "text": [
      "/usr/local/lib/python3.7/site-packages/sklearn/ensemble/forest.py:245: FutureWarning: The default value of n_estimators will change from 10 in version 0.20 to 100 in 0.22.\n",
      "  \"10 in version 0.20 to 100 in 0.22.\", FutureWarning)\n"
     ]
    },
    {
     "name": "stdout",
     "output_type": "stream",
     "text": [
      "Accuracy: 0.9811715481171548\n"
     ]
    },
    {
     "name": "stderr",
     "output_type": "stream",
     "text": [
      "/usr/local/lib/python3.7/site-packages/sklearn/ensemble/forest.py:245: FutureWarning: The default value of n_estimators will change from 10 in version 0.20 to 100 in 0.22.\n",
      "  \"10 in version 0.20 to 100 in 0.22.\", FutureWarning)\n"
     ]
    },
    {
     "name": "stdout",
     "output_type": "stream",
     "text": [
      "Accuracy: 0.9937238493723849\n"
     ]
    },
    {
     "name": "stderr",
     "output_type": "stream",
     "text": [
      "/usr/local/lib/python3.7/site-packages/sklearn/ensemble/forest.py:245: FutureWarning: The default value of n_estimators will change from 10 in version 0.20 to 100 in 0.22.\n",
      "  \"10 in version 0.20 to 100 in 0.22.\", FutureWarning)\n"
     ]
    },
    {
     "name": "stdout",
     "output_type": "stream",
     "text": [
      "Accuracy: 0.9832635983263598\n"
     ]
    },
    {
     "name": "stderr",
     "output_type": "stream",
     "text": [
      "/usr/local/lib/python3.7/site-packages/sklearn/ensemble/forest.py:245: FutureWarning: The default value of n_estimators will change from 10 in version 0.20 to 100 in 0.22.\n",
      "  \"10 in version 0.20 to 100 in 0.22.\", FutureWarning)\n"
     ]
    },
    {
     "name": "stdout",
     "output_type": "stream",
     "text": [
      "Accuracy: 0.9790794979079498\n"
     ]
    },
    {
     "name": "stderr",
     "output_type": "stream",
     "text": [
      "/usr/local/lib/python3.7/site-packages/sklearn/ensemble/forest.py:245: FutureWarning: The default value of n_estimators will change from 10 in version 0.20 to 100 in 0.22.\n",
      "  \"10 in version 0.20 to 100 in 0.22.\", FutureWarning)\n"
     ]
    },
    {
     "name": "stdout",
     "output_type": "stream",
     "text": [
      "Accuracy: 0.9707112970711297\n",
      "Accuracy after kfold cross validation is: 0.9830626916256847\n"
     ]
    }
   ],
   "source": [
    "from sklearn.model_selection import KFold\n",
    "\n",
    "number_of_splits = 10\n",
    "total_accuracy = 0\n",
    "\n",
    "# perform kfold cross validation\n",
    "kf = KFold(n_splits=number_of_splits, random_state=None, shuffle=True)\n",
    "for train_index, test_index in kf.split(X):\n",
    "    #print(\"TRAIN:\", train_index, \"TEST:\", test_index)\n",
    "    X_train, X_test = X[train_index], X[test_index]\n",
    "    y_train, y_test = y[train_index], y[test_index]\n",
    "    \n",
    "    # train model\n",
    "    \n",
    "    # random forest\n",
    "    accuracy = random_forest(X_train, y_train, X_test, y_test)\n",
    "    # test model\n",
    "    \n",
    "    print(\"Accuracy: \" + str(accuracy))\n",
    "    total_accuracy += accuracy\n",
    "    \n",
    "print(\"Accuracy after kfold cross validation is: \" + str(total_accuracy/number_of_splits))"
   ]
  },
  {
   "cell_type": "code",
   "execution_count": 125,
   "metadata": {},
   "outputs": [],
   "source": [
    "import torch \n",
    "import torchvision\n",
    "import os\n",
    "\n",
    "import random\n",
    "import math\n",
    "import torch.utils.data as tdata\n",
    "import torch.optim as opt\n",
    "import torch.nn as nn\n",
    "import torchvision.datasets as datasets\n",
    "import torchvision.transforms as transforms\n",
    "from torch.utils.data.sampler import SubsetRandomSampler\n",
    "import matplotlib.pyplot as plt\n",
    "plt.style.use('seaborn-whitegrid')\n",
    "plt.rcParams['figure.figsize'] = [9, 6]"
   ]
  },
  {
   "cell_type": "code",
   "execution_count": 126,
   "metadata": {},
   "outputs": [],
   "source": [
    "n_epochs = 20\n",
    "batch_size_train = 64\n",
    "batch_size_test = 512\n",
    "learning_rate = 0.001\n",
    "logging_interval = 1\n",
    "valid_percent = 0.2"
   ]
  },
  {
   "cell_type": "code",
   "execution_count": null,
   "metadata": {},
   "outputs": [],
   "source": []
  }
 ],
 "metadata": {
  "kernelspec": {
   "display_name": "Python 3",
   "language": "python",
   "name": "python3"
  },
  "language_info": {
   "codemirror_mode": {
    "name": "ipython",
    "version": 3
   },
   "file_extension": ".py",
   "mimetype": "text/x-python",
   "name": "python",
   "nbconvert_exporter": "python",
   "pygments_lexer": "ipython3",
   "version": "3.7.4"
  }
 },
 "nbformat": 4,
 "nbformat_minor": 2
}
